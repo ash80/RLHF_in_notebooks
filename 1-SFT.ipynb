{
 "cells": [
  {
   "cell_type": "markdown",
   "metadata": {
    "id": "Aru_9pXy65zc"
   },
   "source": [
    "# Supervised Fine-Tuning\n",
    "\n",
    "Supervised Fine-Tuning (SFT) is the first step in the entire RLHF fine-tuning pipeline (see Figure 2 in [RLHF paper](https://arxiv.org/abs/2305.18438)).\n",
    "This notebook would use gpt2 and the corresponding tokenizer model from Hugging Face `transformers` library to perform SFT on `stanfordnlp/sst2` dataset."
   ]
  },
  {
   "cell_type": "markdown",
   "metadata": {
    "id": "VQbucTJFoTCK"
   },
   "source": [
    "### Initialise gpt2 tokenizer and model"
   ]
  },
  {
   "cell_type": "code",
   "execution_count": null,
   "metadata": {
    "executionInfo": {
     "elapsed": 11532,
     "status": "ok",
     "timestamp": 1749830055839,
     "user": {
      "displayName": "Ashwani Kumar",
      "userId": "13495709577244866341"
     },
     "user_tz": -60
    },
    "id": "vTBRLKOTPugp"
   },
   "outputs": [],
   "source": [
    "from transformers import AutoModelForCausalLM, AutoTokenizer\n",
    "model_name = 'gpt2'\n",
    "tokenizer = AutoTokenizer.from_pretrained(model_name)\n",
    "model = AutoModelForCausalLM.from_pretrained(model_name)"
   ]
  },
  {
   "cell_type": "markdown",
   "metadata": {
    "id": "g7Hhde1LYgzZ"
   },
   "source": [
    "## Testing the Tokenizer"
   ]
  },
  {
   "cell_type": "markdown",
   "metadata": {
    "id": "UgJMhHd6YoOE"
   },
   "source": [
    "### Encoding"
   ]
  },
  {
   "cell_type": "code",
   "execution_count": null,
   "metadata": {
    "colab": {
     "base_uri": "https://localhost:8080/"
    },
    "executionInfo": {
     "elapsed": 6,
     "status": "ok",
     "timestamp": 1749830055840,
     "user": {
      "displayName": "Ashwani Kumar",
      "userId": "13495709577244866341"
     },
     "user_tz": -60
    },
    "id": "LJAqtVN5YqAt",
    "outputId": "221692aa-b252-4e70-e9b9-9211e7f9568c"
   },
   "outputs": [],
   "source": [
    "text = \"Hello, this is the first step of RLHF training.\"\n",
    "tokens = tokenizer(text)\n",
    "print(tokens)"
   ]
  },
  {
   "cell_type": "markdown",
   "metadata": {
    "id": "JtGK4JT9Y0kC"
   },
   "source": [
    "### Decoding"
   ]
  },
  {
   "cell_type": "code",
   "execution_count": null,
   "metadata": {
    "colab": {
     "base_uri": "https://localhost:8080/"
    },
    "executionInfo": {
     "elapsed": 6,
     "status": "ok",
     "timestamp": 1749830055846,
     "user": {
      "displayName": "Ashwani Kumar",
      "userId": "13495709577244866341"
     },
     "user_tz": -60
    },
    "id": "T4rdV8dJZ2AD",
    "outputId": "464111e4-26bc-43aa-e83c-64674ecd04dd"
   },
   "outputs": [],
   "source": [
    "print(tokenizer.decode(tokens['input_ids']))"
   ]
  },
  {
   "cell_type": "markdown",
   "metadata": {
    "id": "iZ_qzQDkpYVY"
   },
   "source": [
    "### Tokenize a batch"
   ]
  },
  {
   "cell_type": "code",
   "execution_count": null,
   "metadata": {
    "executionInfo": {
     "elapsed": 1,
     "status": "ok",
     "timestamp": 1749830055848,
     "user": {
      "displayName": "Ashwani Kumar",
      "userId": "13495709577244866341"
     },
     "user_tz": -60
    },
    "id": "I-p_MLAOZ6sb"
   },
   "outputs": [],
   "source": [
    "texts = ['Hello, this is the first step of RLHF training.', 'I have a dog', 'I also have a cat']\n",
    "tokens_obj = tokenizer(texts)"
   ]
  },
  {
   "cell_type": "code",
   "execution_count": null,
   "metadata": {
    "colab": {
     "base_uri": "https://localhost:8080/"
    },
    "executionInfo": {
     "elapsed": 3,
     "status": "ok",
     "timestamp": 1749830055852,
     "user": {
      "displayName": "Ashwani Kumar",
      "userId": "13495709577244866341"
     },
     "user_tz": -60
    },
    "id": "0eB87lWmaJxR",
    "outputId": "2fbdd44f-85f1-4cf3-b76d-4af7abf65283"
   },
   "outputs": [],
   "source": [
    "for tokens in tokens_obj['input_ids']:\n",
    "    print(tokenizer.decode(tokens))"
   ]
  },
  {
   "cell_type": "markdown",
   "metadata": {
    "id": "IsbOFZtxaZej"
   },
   "source": [
    "## Working with a dataset"
   ]
  },
  {
   "cell_type": "code",
   "execution_count": null,
   "metadata": {
    "colab": {
     "base_uri": "https://localhost:8080/"
    },
    "executionInfo": {
     "elapsed": 4681,
     "status": "ok",
     "timestamp": 1749830060534,
     "user": {
      "displayName": "Ashwani Kumar",
      "userId": "13495709577244866341"
     },
     "user_tz": -60
    },
    "id": "LvLmbH3OahmU",
    "outputId": "544ff663-72f8-46eb-8ce7-ddd07c157bb9"
   },
   "outputs": [],
   "source": [
    "%pip install datasets==3.5.0"
   ]
  },
  {
   "cell_type": "markdown",
   "metadata": {
    "id": "jUPNXPoqamSA"
   },
   "source": [
    "### Loading a dataset"
   ]
  },
  {
   "cell_type": "code",
   "execution_count": null,
   "metadata": {
    "executionInfo": {
     "elapsed": 2649,
     "status": "ok",
     "timestamp": 1749830063185,
     "user": {
      "displayName": "Ashwani Kumar",
      "userId": "13495709577244866341"
     },
     "user_tz": -60
    },
    "id": "o2vbNdAUastk"
   },
   "outputs": [],
   "source": [
    "from datasets import load_dataset\n",
    "dataset_name = 'sst2'\n",
    "ds = load_dataset(dataset_name)"
   ]
  },
  {
   "cell_type": "code",
   "execution_count": null,
   "metadata": {
    "colab": {
     "base_uri": "https://localhost:8080/"
    },
    "executionInfo": {
     "elapsed": 10,
     "status": "ok",
     "timestamp": 1749830063200,
     "user": {
      "displayName": "Ashwani Kumar",
      "userId": "13495709577244866341"
     },
     "user_tz": -60
    },
    "id": "H_xmPU7MbGHF",
    "outputId": "f3fbb244-81ac-4128-c4be-7df3f760ba9f"
   },
   "outputs": [],
   "source": [
    "ds"
   ]
  },
  {
   "cell_type": "code",
   "execution_count": null,
   "metadata": {
    "colab": {
     "base_uri": "https://localhost:8080/"
    },
    "executionInfo": {
     "elapsed": 33,
     "status": "ok",
     "timestamp": 1749830063237,
     "user": {
      "displayName": "Ashwani Kumar",
      "userId": "13495709577244866341"
     },
     "user_tz": -60
    },
    "id": "n8LF6uARbGe4",
    "outputId": "a18f0889-fc6a-4909-baf4-4d68dc17bc8b"
   },
   "outputs": [],
   "source": [
    "ds_train, ds_val = ds['train'], ds['validation']\n",
    "ds_train"
   ]
  },
  {
   "cell_type": "code",
   "execution_count": null,
   "metadata": {
    "colab": {
     "base_uri": "https://localhost:8080/"
    },
    "executionInfo": {
     "elapsed": 22,
     "status": "ok",
     "timestamp": 1749830063268,
     "user": {
      "displayName": "Ashwani Kumar",
      "userId": "13495709577244866341"
     },
     "user_tz": -60
    },
    "id": "CmU-kiEHbLnY",
    "outputId": "a00b9bad-6996-4132-f7ed-3908b103c9f5"
   },
   "outputs": [],
   "source": [
    "ds_train[6]"
   ]
  },
  {
   "cell_type": "code",
   "execution_count": null,
   "metadata": {
    "colab": {
     "base_uri": "https://localhost:8080/"
    },
    "executionInfo": {
     "elapsed": 36,
     "status": "ok",
     "timestamp": 1749830063307,
     "user": {
      "displayName": "Ashwani Kumar",
      "userId": "13495709577244866341"
     },
     "user_tz": -60
    },
    "id": "2IxHBmOqbT9J",
    "outputId": "14017da2-24fe-4e38-ace5-aa0347624189"
   },
   "outputs": [],
   "source": [
    "# A batch of rows\n",
    "ds_train[:10] # collation"
   ]
  },
  {
   "cell_type": "markdown",
   "metadata": {
    "id": "zaqo_z2ebaLR"
   },
   "source": [
    "## Tokenizing a Dataset"
   ]
  },
  {
   "cell_type": "code",
   "execution_count": null,
   "metadata": {
    "colab": {
     "base_uri": "https://localhost:8080/",
     "height": 81,
     "referenced_widgets": [
      "289e392ee3f04fcfa015d554fc46d3ba",
      "aa6edd0a990e4095a28381e6ae4644e8",
      "88486880fc0c4b70bc26fd319100270d",
      "4fe8fff15a3e4e30964923bece5d60e6",
      "b32ca0906a974f0996cb40dee4857f17",
      "7d151a4c81a04fdca619d2e49a31f010",
      "d8155431dd4544ff9be37d8b197a8429",
      "5e1fb7b811c142e38169613c36b8b775",
      "99da317dde1b405cb5147f791df6bf1f",
      "87ca15a15ec44ef5a1e8309eac7adc82",
      "aa6ffa76a3e14dae8d2c096b56372912",
      "674d4aa662934a17acc002dddbbdf3e8",
      "3a45c8b521cc4ba4af4b35a4eb168067",
      "8fe3c67cacc64c66af1620d1b020945a",
      "070af779aa334c728a9be7802ab2a9dc",
      "a4b23ac26cce413a804567ced307f8f7",
      "5271b3e1c4e94c699b68f521c2ad0895",
      "e06557f1ee1c4997bd0197d060d63555",
      "82c7427d898e4c87b058c229352e5601",
      "4de66afb5ac44f82b21efd89d2ec254e",
      "71c809cbfc2e4bbb9474b070595a3842",
      "d64f1540953c4bacb1452b23ebd52b4b"
     ]
    },
    "executionInfo": {
     "elapsed": 7004,
     "status": "ok",
     "timestamp": 1749830070316,
     "user": {
      "displayName": "Ashwani Kumar",
      "userId": "13495709577244866341"
     },
     "user_tz": -60
    },
    "id": "UkT2OaT-fHhB",
    "outputId": "e384ddfb-fc98-4e7f-d1f6-422b2600807d"
   },
   "outputs": [],
   "source": [
    "def tokenize(batch):\n",
    "    return tokenizer(batch['sentence'])\n",
    "\n",
    "map_kwargs = {\n",
    "    'batched': True,\n",
    "    'batch_size': 512,\n",
    "    'remove_columns': ['idx', 'sentence', 'label']\n",
    "}\n",
    "\n",
    "tokenized_dataset_train = ds_train.map(tokenize, **map_kwargs)\n",
    "tokenized_dataset_val = ds_val.map(tokenize, **map_kwargs)"
   ]
  },
  {
   "cell_type": "code",
   "execution_count": null,
   "metadata": {
    "colab": {
     "base_uri": "https://localhost:8080/"
    },
    "executionInfo": {
     "elapsed": 18,
     "status": "ok",
     "timestamp": 1749830070335,
     "user": {
      "displayName": "Ashwani Kumar",
      "userId": "13495709577244866341"
     },
     "user_tz": -60
    },
    "id": "gfapUPxQf1v3",
    "outputId": "8829be15-7188-41d1-b61b-450f07c9f1e4"
   },
   "outputs": [],
   "source": [
    "tokenized_dataset_train[0]"
   ]
  },
  {
   "cell_type": "code",
   "execution_count": null,
   "metadata": {
    "colab": {
     "base_uri": "https://localhost:8080/"
    },
    "executionInfo": {
     "elapsed": 55,
     "status": "ok",
     "timestamp": 1749830070392,
     "user": {
      "displayName": "Ashwani Kumar",
      "userId": "13495709577244866341"
     },
     "user_tz": -60
    },
    "id": "CppDUf24gVC8",
    "outputId": "09228f21-6b38-4faa-d6c2-a4285c0b8f94"
   },
   "outputs": [],
   "source": [
    "tokenized_dataset_train[5:10]"
   ]
  },
  {
   "cell_type": "markdown",
   "metadata": {
    "id": "9-vd0QN6qHy4"
   },
   "source": [
    "### Decoding from the dataset"
   ]
  },
  {
   "cell_type": "code",
   "execution_count": null,
   "metadata": {
    "colab": {
     "base_uri": "https://localhost:8080/"
    },
    "executionInfo": {
     "elapsed": 6,
     "status": "ok",
     "timestamp": 1749830070392,
     "user": {
      "displayName": "Ashwani Kumar",
      "userId": "13495709577244866341"
     },
     "user_tz": -60
    },
    "id": "LxqjLAwogYff",
    "outputId": "87ddc2d3-ce57-4ba1-c020-1f5949dc6a98"
   },
   "outputs": [],
   "source": [
    "for i, seq in enumerate(tokenized_dataset_train[5:10]['input_ids']):\n",
    "    print(f'{i+1}: {tokenizer.decode(seq)}')"
   ]
  },
  {
   "cell_type": "markdown",
   "metadata": {
    "id": "49fqEC9rqb-k"
   },
   "source": [
    "### Filter out tweets shorter than 5 tokens"
   ]
  },
  {
   "cell_type": "code",
   "execution_count": null,
   "metadata": {
    "colab": {
     "base_uri": "https://localhost:8080/"
    },
    "executionInfo": {
     "elapsed": 5,
     "status": "ok",
     "timestamp": 1749830070396,
     "user": {
      "displayName": "Ashwani Kumar",
      "userId": "13495709577244866341"
     },
     "user_tz": -60
    },
    "id": "ae8qrM11g1Ch",
    "outputId": "b36b73e8-7db5-41de-9c63-0b18a950f267"
   },
   "outputs": [],
   "source": [
    "print(len(tokenized_dataset_train), len(tokenized_dataset_val))"
   ]
  },
  {
   "cell_type": "code",
   "execution_count": null,
   "metadata": {
    "colab": {
     "base_uri": "https://localhost:8080/",
     "height": 81,
     "referenced_widgets": [
      "6525389b5fda4314bb84decced803c64",
      "5981f58829564d90b9fe6a80b6b36596",
      "444f43055fcf4662b8c54ae52ce0b6ac",
      "65494696384147509e95db4e12aefbff",
      "c6af958579ff4c6ea9d770e7939e2ea9",
      "b2cd7d2b3263421faee36fa7db405e9e",
      "d538e4a20e5e44a6a502b3d963d770c1",
      "654db118d8b049db9f58d0c34e7e371d",
      "dafcd1ad7cfb434f9b003d7de5824be5",
      "91f73276b1e840cbb1cf03a79743a694",
      "e50fb5034fe94d23b3eca9d2d6b08e33",
      "5c2328a9232543af99ee2ec1e50ab051",
      "a76aa2fb189f40f3ba49ca1e8d328790",
      "6d5a88d61668436d82c7c0d5b3e3904e",
      "89dd2a1604084e7c87dbea21ee3e2d04",
      "f2e8803d774549f18e0699017d01742e",
      "baf7b6ca05474d0dbf854d05ab99f935",
      "82bd528f870649159195b78a974a0df3",
      "e578286984454c45889cc72c510a5eda",
      "484d4e1973394ddd803cef6bb4b9cf45",
      "ba4e8b63edd04edbbe3bb469a799bca1",
      "562f38f58f714d7db6bc180a7c94d1e6"
     ]
    },
    "executionInfo": {
     "elapsed": 2967,
     "status": "ok",
     "timestamp": 1749830073372,
     "user": {
      "displayName": "Ashwani Kumar",
      "userId": "13495709577244866341"
     },
     "user_tz": -60
    },
    "id": "mDyyvUs5hFW-",
    "outputId": "2ea051bc-c127-4d78-833d-8e71155f08d1"
   },
   "outputs": [],
   "source": [
    "tokenized_dataset_train = tokenized_dataset_train.filter(lambda x: len(x['input_ids']) > 5)\n",
    "tokenized_dataset_val = tokenized_dataset_val.filter(lambda x: len(x['input_ids']) > 5)"
   ]
  },
  {
   "cell_type": "code",
   "execution_count": null,
   "metadata": {
    "colab": {
     "base_uri": "https://localhost:8080/"
    },
    "executionInfo": {
     "elapsed": 13,
     "status": "ok",
     "timestamp": 1749830073388,
     "user": {
      "displayName": "Ashwani Kumar",
      "userId": "13495709577244866341"
     },
     "user_tz": -60
    },
    "id": "piSWIoZChWsb",
    "outputId": "7b678229-d9d3-45c3-9ee6-18b0fae8003e"
   },
   "outputs": [],
   "source": [
    "print(len(tokenized_dataset_train), len(tokenized_dataset_val))"
   ]
  },
  {
   "cell_type": "markdown",
   "metadata": {
    "id": "N_rvE4o2hZYa"
   },
   "source": [
    "## Preparing a dataloader"
   ]
  },
  {
   "cell_type": "markdown",
   "metadata": {
    "id": "SPMuagrQqxy2"
   },
   "source": [
    "### Set PyTorch format"
   ]
  },
  {
   "cell_type": "code",
   "execution_count": null,
   "metadata": {
    "executionInfo": {
     "elapsed": 13,
     "status": "ok",
     "timestamp": 1749830073402,
     "user": {
      "displayName": "Ashwani Kumar",
      "userId": "13495709577244866341"
     },
     "user_tz": -60
    },
    "id": "0AqKJcjLhsZU"
   },
   "outputs": [],
   "source": [
    "tokenized_dataset_train.set_format(type='torch')\n",
    "tokenized_dataset_val.set_format(type='torch')"
   ]
  },
  {
   "cell_type": "code",
   "execution_count": null,
   "metadata": {
    "colab": {
     "base_uri": "https://localhost:8080/"
    },
    "executionInfo": {
     "elapsed": 18,
     "status": "ok",
     "timestamp": 1749830073421,
     "user": {
      "displayName": "Ashwani Kumar",
      "userId": "13495709577244866341"
     },
     "user_tz": -60
    },
    "id": "lT2zTkSCiHWs",
    "outputId": "c77845ab-79b2-4798-8a58-e1cffe14ba75"
   },
   "outputs": [],
   "source": [
    "tokenized_dataset_train[0]"
   ]
  },
  {
   "cell_type": "code",
   "execution_count": null,
   "metadata": {
    "colab": {
     "base_uri": "https://localhost:8080/"
    },
    "executionInfo": {
     "elapsed": 20,
     "status": "ok",
     "timestamp": 1749830073443,
     "user": {
      "displayName": "Ashwani Kumar",
      "userId": "13495709577244866341"
     },
     "user_tz": -60
    },
    "id": "NVY4SopCiNxP",
    "outputId": "71be2f80-0b94-42db-86a5-2a4c798d7759"
   },
   "outputs": [],
   "source": [
    "tokenized_dataset_train[:5]"
   ]
  },
  {
   "cell_type": "markdown",
   "metadata": {
    "id": "vjKmlfG8i5mm"
   },
   "source": [
    "### Padding"
   ]
  },
  {
   "cell_type": "code",
   "execution_count": null,
   "metadata": {
    "colab": {
     "base_uri": "https://localhost:8080/"
    },
    "executionInfo": {
     "elapsed": 14,
     "status": "ok",
     "timestamp": 1749830073468,
     "user": {
      "displayName": "Ashwani Kumar",
      "userId": "13495709577244866341"
     },
     "user_tz": -60
    },
    "id": "4XXxH7Gai9i0",
    "outputId": "24b2446d-b8f1-49d4-e549-612485f08d79"
   },
   "outputs": [],
   "source": [
    "# check what the pad token is set to (should be empty)\n",
    "print(tokenizer.pad_token)"
   ]
  },
  {
   "cell_type": "code",
   "execution_count": null,
   "metadata": {
    "colab": {
     "base_uri": "https://localhost:8080/"
    },
    "executionInfo": {
     "elapsed": 16,
     "status": "ok",
     "timestamp": 1749830073486,
     "user": {
      "displayName": "Ashwani Kumar",
      "userId": "13495709577244866341"
     },
     "user_tz": -60
    },
    "id": "O1Nj2Pi8jGky",
    "outputId": "ca8dbeb4-3c3f-4ffa-8f48-17fe4166a159"
   },
   "outputs": [],
   "source": [
    "# check what the eos token is set to\n",
    "print(tokenizer.eos_token)"
   ]
  },
  {
   "cell_type": "code",
   "execution_count": null,
   "metadata": {
    "executionInfo": {
     "elapsed": 3,
     "status": "ok",
     "timestamp": 1749830073490,
     "user": {
      "displayName": "Ashwani Kumar",
      "userId": "13495709577244866341"
     },
     "user_tz": -60
    },
    "id": "uvbPQnMqjLVo"
   },
   "outputs": [],
   "source": [
    "# N+ Implementation paper (page 5) says otherwise\n",
    "# but we would use attention_mask to remove extra eos_token used for padding\n",
    "tokenizer.pad_token = tokenizer.eos_token"
   ]
  },
  {
   "cell_type": "markdown",
   "metadata": {
    "id": "b5E7H8gvrfXF"
   },
   "source": [
    "### Collation with Padding"
   ]
  },
  {
   "cell_type": "code",
   "execution_count": null,
   "metadata": {
    "executionInfo": {
     "elapsed": 131,
     "status": "ok",
     "timestamp": 1749830073623,
     "user": {
      "displayName": "Ashwani Kumar",
      "userId": "13495709577244866341"
     },
     "user_tz": -60
    },
    "id": "Yr_E4Rg-iS2-"
   },
   "outputs": [],
   "source": [
    "from torch.utils.data import DataLoader\n",
    "from transformers import DataCollatorForLanguageModeling\n",
    "data_collator = DataCollatorForLanguageModeling(tokenizer, mlm=False) # labels\n",
    "\n",
    "dataloader_params = {\n",
    "    'batch_size': 32,\n",
    "    'collate_fn': data_collator\n",
    "}\n",
    "\n",
    "train_dataloader = DataLoader(tokenized_dataset_train, **dataloader_params)\n",
    "val_dataloader = DataLoader(tokenized_dataset_val, **dataloader_params)"
   ]
  },
  {
   "cell_type": "code",
   "execution_count": null,
   "metadata": {
    "colab": {
     "base_uri": "https://localhost:8080/"
    },
    "executionInfo": {
     "elapsed": 8,
     "status": "ok",
     "timestamp": 1749830073624,
     "user": {
      "displayName": "Ashwani Kumar",
      "userId": "13495709577244866341"
     },
     "user_tz": -60
    },
    "id": "qdjAoel5j33G",
    "outputId": "cf18d347-0dd3-47a6-bc09-3f81856794db"
   },
   "outputs": [],
   "source": [
    "len(train_dataloader)"
   ]
  },
  {
   "cell_type": "code",
   "execution_count": null,
   "metadata": {
    "colab": {
     "base_uri": "https://localhost:8080/"
    },
    "executionInfo": {
     "elapsed": 14,
     "status": "ok",
     "timestamp": 1749830073634,
     "user": {
      "displayName": "Ashwani Kumar",
      "userId": "13495709577244866341"
     },
     "user_tz": -60
    },
    "id": "3tOitXmKj7G4",
    "outputId": "34abbc15-0402-4fcc-cd08-2b0ffead706e"
   },
   "outputs": [],
   "source": [
    "1544 * 32"
   ]
  },
  {
   "cell_type": "code",
   "execution_count": null,
   "metadata": {
    "colab": {
     "base_uri": "https://localhost:8080/"
    },
    "executionInfo": {
     "elapsed": 54,
     "status": "ok",
     "timestamp": 1749830073697,
     "user": {
      "displayName": "Ashwani Kumar",
      "userId": "13495709577244866341"
     },
     "user_tz": -60
    },
    "id": "e7WTU8i1j-J1",
    "outputId": "94791542-6b7f-42bd-d18f-64a3e9d881f1"
   },
   "outputs": [],
   "source": [
    "batch = next(iter(train_dataloader))\n",
    "print(batch.keys())"
   ]
  },
  {
   "cell_type": "code",
   "execution_count": null,
   "metadata": {
    "colab": {
     "base_uri": "https://localhost:8080/"
    },
    "executionInfo": {
     "elapsed": 6,
     "status": "ok",
     "timestamp": 1749830073698,
     "user": {
      "displayName": "Ashwani Kumar",
      "userId": "13495709577244866341"
     },
     "user_tz": -60
    },
    "id": "mlUwkhMwkQYg",
    "outputId": "c6d14887-5d9c-4794-847e-83b86e91e57a"
   },
   "outputs": [],
   "source": [
    "batch['input_ids'].shape"
   ]
  },
  {
   "cell_type": "code",
   "execution_count": null,
   "metadata": {
    "colab": {
     "base_uri": "https://localhost:8080/"
    },
    "executionInfo": {
     "elapsed": 9,
     "status": "ok",
     "timestamp": 1749830073707,
     "user": {
      "displayName": "Ashwani Kumar",
      "userId": "13495709577244866341"
     },
     "user_tz": -60
    },
    "id": "d9js2Mx2kijg",
    "outputId": "aef647e0-bcf0-4935-e015-197b873eb3bb"
   },
   "outputs": [],
   "source": [
    "batch['input_ids'][0]"
   ]
  },
  {
   "cell_type": "code",
   "execution_count": null,
   "metadata": {
    "colab": {
     "base_uri": "https://localhost:8080/"
    },
    "executionInfo": {
     "elapsed": 6,
     "status": "ok",
     "timestamp": 1749830073715,
     "user": {
      "displayName": "Ashwani Kumar",
      "userId": "13495709577244866341"
     },
     "user_tz": -60
    },
    "id": "c96_3Wlwkoeq",
    "outputId": "9dc0a145-f5d5-47dd-db56-75a1bec237f9"
   },
   "outputs": [],
   "source": [
    "batch['labels'][0]"
   ]
  },
  {
   "cell_type": "code",
   "execution_count": null,
   "metadata": {
    "colab": {
     "base_uri": "https://localhost:8080/"
    },
    "executionInfo": {
     "elapsed": 20,
     "status": "ok",
     "timestamp": 1749830073736,
     "user": {
      "displayName": "Ashwani Kumar",
      "userId": "13495709577244866341"
     },
     "user_tz": -60
    },
    "id": "lymOtPvjktGC",
    "outputId": "a4cac018-ca4b-46d3-9feb-3ab2a1e7147f"
   },
   "outputs": [],
   "source": [
    "batch['attention_mask'][0]"
   ]
  },
  {
   "cell_type": "markdown",
   "metadata": {
    "id": "xnjBkwEhkzx3"
   },
   "source": [
    "## Supervised Fine-tuning (SFT)"
   ]
  },
  {
   "cell_type": "code",
   "execution_count": null,
   "metadata": {
    "executionInfo": {
     "elapsed": 1,
     "status": "ok",
     "timestamp": 1749830073739,
     "user": {
      "displayName": "Ashwani Kumar",
      "userId": "13495709577244866341"
     },
     "user_tz": -60
    },
    "id": "u7gqdcWymDuH"
   },
   "outputs": [],
   "source": [
    "import torch\n",
    "optimizer = torch.optim.AdamW(model.parameters(), lr=5e-5)\n",
    "num_epochs = 1"
   ]
  },
  {
   "cell_type": "markdown",
   "metadata": {
    "id": "9Fi6NUjQm2m8"
   },
   "source": [
    "### Training loop"
   ]
  },
  {
   "cell_type": "code",
   "execution_count": null,
   "metadata": {
    "executionInfo": {
     "elapsed": 1,
     "status": "ok",
     "timestamp": 1749830073741,
     "user": {
      "displayName": "Ashwani Kumar",
      "userId": "13495709577244866341"
     },
     "user_tz": -60
    },
    "id": "Kc0zZfqUr0Ia"
   },
   "outputs": [],
   "source": [
    "def validate(epoch):\n",
    "    model.eval()\n",
    "    total_loss = 0.0\n",
    "    for i, batch in enumerate(val_dataloader):\n",
    "        # iteration = epoch * len(val_dataloader) + i\n",
    "        batch = batch.to(device)\n",
    "        with torch.no_grad():\n",
    "            outputs = model(**batch)\n",
    "            loss = outputs.loss # Uses transformers.loss.loss_utils.ForCausalLMLoss for loss calculation\n",
    "            total_loss += loss.item()\n",
    "    print(f'val_loss at {epoch} epoch:', total_loss / len(val_dataloader))"
   ]
  },
  {
   "cell_type": "markdown",
   "metadata": {
    "id": "ATEfBxHIslp5"
   },
   "source": [
    "Code for loss calculation: [transformers.loss.loss_utils.ForCausalLMLoss](https://github.com/huggingface/transformers/blob/main/src/transformers/loss/loss_utils.py)"
   ]
  },
  {
   "cell_type": "code",
   "execution_count": null,
   "metadata": {
    "colab": {
     "base_uri": "https://localhost:8080/",
     "height": 1000
    },
    "executionInfo": {
     "elapsed": 29984,
     "status": "error",
     "timestamp": 1749830103725,
     "user": {
      "displayName": "Ashwani Kumar",
      "userId": "13495709577244866341"
     },
     "user_tz": -60
    },
    "id": "FnxHRbJdm4tA",
    "outputId": "1b9366b5-241e-4814-d648-1931a9bb3789"
   },
   "outputs": [],
   "source": [
    "device = torch.device('cuda' if torch.cuda.is_available() else 'cpu')\n",
    "model.to(device)\n",
    "validate(0)\n",
    "for epoch in range(num_epochs):\n",
    "    model.train()\n",
    "    for i, batch in enumerate(train_dataloader):\n",
    "        batch = batch.to(device)\n",
    "        outputs = model(**batch)\n",
    "        loss = outputs.loss\n",
    "        print(f'Loss: {loss.item()}')\n",
    "        optimizer.zero_grad()\n",
    "        loss.backward()\n",
    "        optimizer.step()\n",
    "    validate(epoch+1)"
   ]
  },
  {
   "cell_type": "markdown",
   "metadata": {
    "id": "As2tQRHqsxNU"
   },
   "source": [
    "### Save the model"
   ]
  },
  {
   "cell_type": "code",
   "execution_count": null,
   "metadata": {
    "executionInfo": {
     "elapsed": 1633,
     "status": "ok",
     "timestamp": 1749830112601,
     "user": {
      "displayName": "Ashwani Kumar",
      "userId": "13495709577244866341"
     },
     "user_tz": -60
    },
    "id": "_40Y-mCqrCvs"
   },
   "outputs": [],
   "source": [
    "model.save_pretrained('./sft_model_epoch_1')"
   ]
  },
  {
   "cell_type": "code",
   "execution_count": null,
   "metadata": {
    "colab": {
     "base_uri": "https://localhost:8080/"
    },
    "executionInfo": {
     "elapsed": 102,
     "status": "ok",
     "timestamp": 1749830112705,
     "user": {
      "displayName": "Ashwani Kumar",
      "userId": "13495709577244866341"
     },
     "user_tz": -60
    },
    "id": "fPijJfrjrIw_",
    "outputId": "10a34cd7-7f94-41f5-9878-d0ea1eceb183"
   },
   "outputs": [],
   "source": [
    "model.from_pretrained('./sft_model_epoch_1')"
   ]
  },
  {
   "cell_type": "markdown",
   "metadata": {
    "id": "XlCrOGIGs7Cw"
   },
   "source": [
    "### Zip the saved model (Optional)"
   ]
  },
  {
   "cell_type": "code",
   "execution_count": null,
   "metadata": {
    "colab": {
     "base_uri": "https://localhost:8080/"
    },
    "executionInfo": {
     "elapsed": 26833,
     "status": "ok",
     "timestamp": 1749830142118,
     "user": {
      "displayName": "Ashwani Kumar",
      "userId": "13495709577244866341"
     },
     "user_tz": -60
    },
    "id": "-uIA211urgim",
    "outputId": "6c4f53f6-c75c-4c94-df18-96b21a4764ef"
   },
   "outputs": [],
   "source": [
    "!zip -r sft_model_epoch_1.zip sft_model_epoch_1/"
   ]
  }
 ],
 "metadata": {
  "accelerator": "GPU",
  "colab": {
   "authorship_tag": "ABX9TyNT3v79jfLETtZov37l4Ljl",
   "gpuType": "T4",
   "provenance": []
  },
  "kernelspec": {
   "display_name": "Python 3 (ipykernel)",
   "language": "python",
   "name": "python3"
  },
  "language_info": {
   "codemirror_mode": {
    "name": "ipython",
    "version": 3
   },
   "file_extension": ".py",
   "mimetype": "text/x-python",
   "name": "python",
   "nbconvert_exporter": "python",
   "pygments_lexer": "ipython3",
   "version": "3.11.9"
  },
  "widgets": {
   "application/vnd.jupyter.widget-state+json": {
    "070af779aa334c728a9be7802ab2a9dc": {
     "model_module": "@jupyter-widgets/controls",
     "model_module_version": "1.5.0",
     "model_name": "HTMLModel",
     "state": {
      "_dom_classes": [],
      "_model_module": "@jupyter-widgets/controls",
      "_model_module_version": "1.5.0",
      "_model_name": "HTMLModel",
      "_view_count": null,
      "_view_module": "@jupyter-widgets/controls",
      "_view_module_version": "1.5.0",
      "_view_name": "HTMLView",
      "description": "",
      "description_tooltip": null,
      "layout": "IPY_MODEL_71c809cbfc2e4bbb9474b070595a3842",
      "placeholder": "​",
      "style": "IPY_MODEL_d64f1540953c4bacb1452b23ebd52b4b",
      "value": " 872/872 [00:00&lt;00:00, 3293.70 examples/s]"
     }
    },
    "289e392ee3f04fcfa015d554fc46d3ba": {
     "model_module": "@jupyter-widgets/controls",
     "model_module_version": "1.5.0",
     "model_name": "HBoxModel",
     "state": {
      "_dom_classes": [],
      "_model_module": "@jupyter-widgets/controls",
      "_model_module_version": "1.5.0",
      "_model_name": "HBoxModel",
      "_view_count": null,
      "_view_module": "@jupyter-widgets/controls",
      "_view_module_version": "1.5.0",
      "_view_name": "HBoxView",
      "box_style": "",
      "children": [
       "IPY_MODEL_aa6edd0a990e4095a28381e6ae4644e8",
       "IPY_MODEL_88486880fc0c4b70bc26fd319100270d",
       "IPY_MODEL_4fe8fff15a3e4e30964923bece5d60e6"
      ],
      "layout": "IPY_MODEL_b32ca0906a974f0996cb40dee4857f17"
     }
    },
    "3a45c8b521cc4ba4af4b35a4eb168067": {
     "model_module": "@jupyter-widgets/controls",
     "model_module_version": "1.5.0",
     "model_name": "HTMLModel",
     "state": {
      "_dom_classes": [],
      "_model_module": "@jupyter-widgets/controls",
      "_model_module_version": "1.5.0",
      "_model_name": "HTMLModel",
      "_view_count": null,
      "_view_module": "@jupyter-widgets/controls",
      "_view_module_version": "1.5.0",
      "_view_name": "HTMLView",
      "description": "",
      "description_tooltip": null,
      "layout": "IPY_MODEL_5271b3e1c4e94c699b68f521c2ad0895",
      "placeholder": "​",
      "style": "IPY_MODEL_e06557f1ee1c4997bd0197d060d63555",
      "value": "Map: 100%"
     }
    },
    "444f43055fcf4662b8c54ae52ce0b6ac": {
     "model_module": "@jupyter-widgets/controls",
     "model_module_version": "1.5.0",
     "model_name": "FloatProgressModel",
     "state": {
      "_dom_classes": [],
      "_model_module": "@jupyter-widgets/controls",
      "_model_module_version": "1.5.0",
      "_model_name": "FloatProgressModel",
      "_view_count": null,
      "_view_module": "@jupyter-widgets/controls",
      "_view_module_version": "1.5.0",
      "_view_name": "ProgressView",
      "bar_style": "success",
      "description": "",
      "description_tooltip": null,
      "layout": "IPY_MODEL_654db118d8b049db9f58d0c34e7e371d",
      "max": 67349,
      "min": 0,
      "orientation": "horizontal",
      "style": "IPY_MODEL_dafcd1ad7cfb434f9b003d7de5824be5",
      "value": 67349
     }
    },
    "484d4e1973394ddd803cef6bb4b9cf45": {
     "model_module": "@jupyter-widgets/controls",
     "model_module_version": "1.5.0",
     "model_name": "ProgressStyleModel",
     "state": {
      "_model_module": "@jupyter-widgets/controls",
      "_model_module_version": "1.5.0",
      "_model_name": "ProgressStyleModel",
      "_view_count": null,
      "_view_module": "@jupyter-widgets/base",
      "_view_module_version": "1.2.0",
      "_view_name": "StyleView",
      "bar_color": null,
      "description_width": ""
     }
    },
    "4de66afb5ac44f82b21efd89d2ec254e": {
     "model_module": "@jupyter-widgets/controls",
     "model_module_version": "1.5.0",
     "model_name": "ProgressStyleModel",
     "state": {
      "_model_module": "@jupyter-widgets/controls",
      "_model_module_version": "1.5.0",
      "_model_name": "ProgressStyleModel",
      "_view_count": null,
      "_view_module": "@jupyter-widgets/base",
      "_view_module_version": "1.2.0",
      "_view_name": "StyleView",
      "bar_color": null,
      "description_width": ""
     }
    },
    "4fe8fff15a3e4e30964923bece5d60e6": {
     "model_module": "@jupyter-widgets/controls",
     "model_module_version": "1.5.0",
     "model_name": "HTMLModel",
     "state": {
      "_dom_classes": [],
      "_model_module": "@jupyter-widgets/controls",
      "_model_module_version": "1.5.0",
      "_model_name": "HTMLModel",
      "_view_count": null,
      "_view_module": "@jupyter-widgets/controls",
      "_view_module_version": "1.5.0",
      "_view_name": "HTMLView",
      "description": "",
      "description_tooltip": null,
      "layout": "IPY_MODEL_87ca15a15ec44ef5a1e8309eac7adc82",
      "placeholder": "​",
      "style": "IPY_MODEL_aa6ffa76a3e14dae8d2c096b56372912",
      "value": " 67349/67349 [00:06&lt;00:00, 7190.64 examples/s]"
     }
    },
    "5271b3e1c4e94c699b68f521c2ad0895": {
     "model_module": "@jupyter-widgets/base",
     "model_module_version": "1.2.0",
     "model_name": "LayoutModel",
     "state": {
      "_model_module": "@jupyter-widgets/base",
      "_model_module_version": "1.2.0",
      "_model_name": "LayoutModel",
      "_view_count": null,
      "_view_module": "@jupyter-widgets/base",
      "_view_module_version": "1.2.0",
      "_view_name": "LayoutView",
      "align_content": null,
      "align_items": null,
      "align_self": null,
      "border": null,
      "bottom": null,
      "display": null,
      "flex": null,
      "flex_flow": null,
      "grid_area": null,
      "grid_auto_columns": null,
      "grid_auto_flow": null,
      "grid_auto_rows": null,
      "grid_column": null,
      "grid_gap": null,
      "grid_row": null,
      "grid_template_areas": null,
      "grid_template_columns": null,
      "grid_template_rows": null,
      "height": null,
      "justify_content": null,
      "justify_items": null,
      "left": null,
      "margin": null,
      "max_height": null,
      "max_width": null,
      "min_height": null,
      "min_width": null,
      "object_fit": null,
      "object_position": null,
      "order": null,
      "overflow": null,
      "overflow_x": null,
      "overflow_y": null,
      "padding": null,
      "right": null,
      "top": null,
      "visibility": null,
      "width": null
     }
    },
    "562f38f58f714d7db6bc180a7c94d1e6": {
     "model_module": "@jupyter-widgets/controls",
     "model_module_version": "1.5.0",
     "model_name": "DescriptionStyleModel",
     "state": {
      "_model_module": "@jupyter-widgets/controls",
      "_model_module_version": "1.5.0",
      "_model_name": "DescriptionStyleModel",
      "_view_count": null,
      "_view_module": "@jupyter-widgets/base",
      "_view_module_version": "1.2.0",
      "_view_name": "StyleView",
      "description_width": ""
     }
    },
    "5981f58829564d90b9fe6a80b6b36596": {
     "model_module": "@jupyter-widgets/controls",
     "model_module_version": "1.5.0",
     "model_name": "HTMLModel",
     "state": {
      "_dom_classes": [],
      "_model_module": "@jupyter-widgets/controls",
      "_model_module_version": "1.5.0",
      "_model_name": "HTMLModel",
      "_view_count": null,
      "_view_module": "@jupyter-widgets/controls",
      "_view_module_version": "1.5.0",
      "_view_name": "HTMLView",
      "description": "",
      "description_tooltip": null,
      "layout": "IPY_MODEL_b2cd7d2b3263421faee36fa7db405e9e",
      "placeholder": "​",
      "style": "IPY_MODEL_d538e4a20e5e44a6a502b3d963d770c1",
      "value": "Filter: 100%"
     }
    },
    "5c2328a9232543af99ee2ec1e50ab051": {
     "model_module": "@jupyter-widgets/controls",
     "model_module_version": "1.5.0",
     "model_name": "HBoxModel",
     "state": {
      "_dom_classes": [],
      "_model_module": "@jupyter-widgets/controls",
      "_model_module_version": "1.5.0",
      "_model_name": "HBoxModel",
      "_view_count": null,
      "_view_module": "@jupyter-widgets/controls",
      "_view_module_version": "1.5.0",
      "_view_name": "HBoxView",
      "box_style": "",
      "children": [
       "IPY_MODEL_a76aa2fb189f40f3ba49ca1e8d328790",
       "IPY_MODEL_6d5a88d61668436d82c7c0d5b3e3904e",
       "IPY_MODEL_89dd2a1604084e7c87dbea21ee3e2d04"
      ],
      "layout": "IPY_MODEL_f2e8803d774549f18e0699017d01742e"
     }
    },
    "5e1fb7b811c142e38169613c36b8b775": {
     "model_module": "@jupyter-widgets/base",
     "model_module_version": "1.2.0",
     "model_name": "LayoutModel",
     "state": {
      "_model_module": "@jupyter-widgets/base",
      "_model_module_version": "1.2.0",
      "_model_name": "LayoutModel",
      "_view_count": null,
      "_view_module": "@jupyter-widgets/base",
      "_view_module_version": "1.2.0",
      "_view_name": "LayoutView",
      "align_content": null,
      "align_items": null,
      "align_self": null,
      "border": null,
      "bottom": null,
      "display": null,
      "flex": null,
      "flex_flow": null,
      "grid_area": null,
      "grid_auto_columns": null,
      "grid_auto_flow": null,
      "grid_auto_rows": null,
      "grid_column": null,
      "grid_gap": null,
      "grid_row": null,
      "grid_template_areas": null,
      "grid_template_columns": null,
      "grid_template_rows": null,
      "height": null,
      "justify_content": null,
      "justify_items": null,
      "left": null,
      "margin": null,
      "max_height": null,
      "max_width": null,
      "min_height": null,
      "min_width": null,
      "object_fit": null,
      "object_position": null,
      "order": null,
      "overflow": null,
      "overflow_x": null,
      "overflow_y": null,
      "padding": null,
      "right": null,
      "top": null,
      "visibility": null,
      "width": null
     }
    },
    "6525389b5fda4314bb84decced803c64": {
     "model_module": "@jupyter-widgets/controls",
     "model_module_version": "1.5.0",
     "model_name": "HBoxModel",
     "state": {
      "_dom_classes": [],
      "_model_module": "@jupyter-widgets/controls",
      "_model_module_version": "1.5.0",
      "_model_name": "HBoxModel",
      "_view_count": null,
      "_view_module": "@jupyter-widgets/controls",
      "_view_module_version": "1.5.0",
      "_view_name": "HBoxView",
      "box_style": "",
      "children": [
       "IPY_MODEL_5981f58829564d90b9fe6a80b6b36596",
       "IPY_MODEL_444f43055fcf4662b8c54ae52ce0b6ac",
       "IPY_MODEL_65494696384147509e95db4e12aefbff"
      ],
      "layout": "IPY_MODEL_c6af958579ff4c6ea9d770e7939e2ea9"
     }
    },
    "65494696384147509e95db4e12aefbff": {
     "model_module": "@jupyter-widgets/controls",
     "model_module_version": "1.5.0",
     "model_name": "HTMLModel",
     "state": {
      "_dom_classes": [],
      "_model_module": "@jupyter-widgets/controls",
      "_model_module_version": "1.5.0",
      "_model_name": "HTMLModel",
      "_view_count": null,
      "_view_module": "@jupyter-widgets/controls",
      "_view_module_version": "1.5.0",
      "_view_name": "HTMLView",
      "description": "",
      "description_tooltip": null,
      "layout": "IPY_MODEL_91f73276b1e840cbb1cf03a79743a694",
      "placeholder": "​",
      "style": "IPY_MODEL_e50fb5034fe94d23b3eca9d2d6b08e33",
      "value": " 67349/67349 [00:02&lt;00:00, 27855.82 examples/s]"
     }
    },
    "654db118d8b049db9f58d0c34e7e371d": {
     "model_module": "@jupyter-widgets/base",
     "model_module_version": "1.2.0",
     "model_name": "LayoutModel",
     "state": {
      "_model_module": "@jupyter-widgets/base",
      "_model_module_version": "1.2.0",
      "_model_name": "LayoutModel",
      "_view_count": null,
      "_view_module": "@jupyter-widgets/base",
      "_view_module_version": "1.2.0",
      "_view_name": "LayoutView",
      "align_content": null,
      "align_items": null,
      "align_self": null,
      "border": null,
      "bottom": null,
      "display": null,
      "flex": null,
      "flex_flow": null,
      "grid_area": null,
      "grid_auto_columns": null,
      "grid_auto_flow": null,
      "grid_auto_rows": null,
      "grid_column": null,
      "grid_gap": null,
      "grid_row": null,
      "grid_template_areas": null,
      "grid_template_columns": null,
      "grid_template_rows": null,
      "height": null,
      "justify_content": null,
      "justify_items": null,
      "left": null,
      "margin": null,
      "max_height": null,
      "max_width": null,
      "min_height": null,
      "min_width": null,
      "object_fit": null,
      "object_position": null,
      "order": null,
      "overflow": null,
      "overflow_x": null,
      "overflow_y": null,
      "padding": null,
      "right": null,
      "top": null,
      "visibility": null,
      "width": null
     }
    },
    "674d4aa662934a17acc002dddbbdf3e8": {
     "model_module": "@jupyter-widgets/controls",
     "model_module_version": "1.5.0",
     "model_name": "HBoxModel",
     "state": {
      "_dom_classes": [],
      "_model_module": "@jupyter-widgets/controls",
      "_model_module_version": "1.5.0",
      "_model_name": "HBoxModel",
      "_view_count": null,
      "_view_module": "@jupyter-widgets/controls",
      "_view_module_version": "1.5.0",
      "_view_name": "HBoxView",
      "box_style": "",
      "children": [
       "IPY_MODEL_3a45c8b521cc4ba4af4b35a4eb168067",
       "IPY_MODEL_8fe3c67cacc64c66af1620d1b020945a",
       "IPY_MODEL_070af779aa334c728a9be7802ab2a9dc"
      ],
      "layout": "IPY_MODEL_a4b23ac26cce413a804567ced307f8f7"
     }
    },
    "6d5a88d61668436d82c7c0d5b3e3904e": {
     "model_module": "@jupyter-widgets/controls",
     "model_module_version": "1.5.0",
     "model_name": "FloatProgressModel",
     "state": {
      "_dom_classes": [],
      "_model_module": "@jupyter-widgets/controls",
      "_model_module_version": "1.5.0",
      "_model_name": "FloatProgressModel",
      "_view_count": null,
      "_view_module": "@jupyter-widgets/controls",
      "_view_module_version": "1.5.0",
      "_view_name": "ProgressView",
      "bar_style": "success",
      "description": "",
      "description_tooltip": null,
      "layout": "IPY_MODEL_e578286984454c45889cc72c510a5eda",
      "max": 872,
      "min": 0,
      "orientation": "horizontal",
      "style": "IPY_MODEL_484d4e1973394ddd803cef6bb4b9cf45",
      "value": 872
     }
    },
    "71c809cbfc2e4bbb9474b070595a3842": {
     "model_module": "@jupyter-widgets/base",
     "model_module_version": "1.2.0",
     "model_name": "LayoutModel",
     "state": {
      "_model_module": "@jupyter-widgets/base",
      "_model_module_version": "1.2.0",
      "_model_name": "LayoutModel",
      "_view_count": null,
      "_view_module": "@jupyter-widgets/base",
      "_view_module_version": "1.2.0",
      "_view_name": "LayoutView",
      "align_content": null,
      "align_items": null,
      "align_self": null,
      "border": null,
      "bottom": null,
      "display": null,
      "flex": null,
      "flex_flow": null,
      "grid_area": null,
      "grid_auto_columns": null,
      "grid_auto_flow": null,
      "grid_auto_rows": null,
      "grid_column": null,
      "grid_gap": null,
      "grid_row": null,
      "grid_template_areas": null,
      "grid_template_columns": null,
      "grid_template_rows": null,
      "height": null,
      "justify_content": null,
      "justify_items": null,
      "left": null,
      "margin": null,
      "max_height": null,
      "max_width": null,
      "min_height": null,
      "min_width": null,
      "object_fit": null,
      "object_position": null,
      "order": null,
      "overflow": null,
      "overflow_x": null,
      "overflow_y": null,
      "padding": null,
      "right": null,
      "top": null,
      "visibility": null,
      "width": null
     }
    },
    "7d151a4c81a04fdca619d2e49a31f010": {
     "model_module": "@jupyter-widgets/base",
     "model_module_version": "1.2.0",
     "model_name": "LayoutModel",
     "state": {
      "_model_module": "@jupyter-widgets/base",
      "_model_module_version": "1.2.0",
      "_model_name": "LayoutModel",
      "_view_count": null,
      "_view_module": "@jupyter-widgets/base",
      "_view_module_version": "1.2.0",
      "_view_name": "LayoutView",
      "align_content": null,
      "align_items": null,
      "align_self": null,
      "border": null,
      "bottom": null,
      "display": null,
      "flex": null,
      "flex_flow": null,
      "grid_area": null,
      "grid_auto_columns": null,
      "grid_auto_flow": null,
      "grid_auto_rows": null,
      "grid_column": null,
      "grid_gap": null,
      "grid_row": null,
      "grid_template_areas": null,
      "grid_template_columns": null,
      "grid_template_rows": null,
      "height": null,
      "justify_content": null,
      "justify_items": null,
      "left": null,
      "margin": null,
      "max_height": null,
      "max_width": null,
      "min_height": null,
      "min_width": null,
      "object_fit": null,
      "object_position": null,
      "order": null,
      "overflow": null,
      "overflow_x": null,
      "overflow_y": null,
      "padding": null,
      "right": null,
      "top": null,
      "visibility": null,
      "width": null
     }
    },
    "82bd528f870649159195b78a974a0df3": {
     "model_module": "@jupyter-widgets/controls",
     "model_module_version": "1.5.0",
     "model_name": "DescriptionStyleModel",
     "state": {
      "_model_module": "@jupyter-widgets/controls",
      "_model_module_version": "1.5.0",
      "_model_name": "DescriptionStyleModel",
      "_view_count": null,
      "_view_module": "@jupyter-widgets/base",
      "_view_module_version": "1.2.0",
      "_view_name": "StyleView",
      "description_width": ""
     }
    },
    "82c7427d898e4c87b058c229352e5601": {
     "model_module": "@jupyter-widgets/base",
     "model_module_version": "1.2.0",
     "model_name": "LayoutModel",
     "state": {
      "_model_module": "@jupyter-widgets/base",
      "_model_module_version": "1.2.0",
      "_model_name": "LayoutModel",
      "_view_count": null,
      "_view_module": "@jupyter-widgets/base",
      "_view_module_version": "1.2.0",
      "_view_name": "LayoutView",
      "align_content": null,
      "align_items": null,
      "align_self": null,
      "border": null,
      "bottom": null,
      "display": null,
      "flex": null,
      "flex_flow": null,
      "grid_area": null,
      "grid_auto_columns": null,
      "grid_auto_flow": null,
      "grid_auto_rows": null,
      "grid_column": null,
      "grid_gap": null,
      "grid_row": null,
      "grid_template_areas": null,
      "grid_template_columns": null,
      "grid_template_rows": null,
      "height": null,
      "justify_content": null,
      "justify_items": null,
      "left": null,
      "margin": null,
      "max_height": null,
      "max_width": null,
      "min_height": null,
      "min_width": null,
      "object_fit": null,
      "object_position": null,
      "order": null,
      "overflow": null,
      "overflow_x": null,
      "overflow_y": null,
      "padding": null,
      "right": null,
      "top": null,
      "visibility": null,
      "width": null
     }
    },
    "87ca15a15ec44ef5a1e8309eac7adc82": {
     "model_module": "@jupyter-widgets/base",
     "model_module_version": "1.2.0",
     "model_name": "LayoutModel",
     "state": {
      "_model_module": "@jupyter-widgets/base",
      "_model_module_version": "1.2.0",
      "_model_name": "LayoutModel",
      "_view_count": null,
      "_view_module": "@jupyter-widgets/base",
      "_view_module_version": "1.2.0",
      "_view_name": "LayoutView",
      "align_content": null,
      "align_items": null,
      "align_self": null,
      "border": null,
      "bottom": null,
      "display": null,
      "flex": null,
      "flex_flow": null,
      "grid_area": null,
      "grid_auto_columns": null,
      "grid_auto_flow": null,
      "grid_auto_rows": null,
      "grid_column": null,
      "grid_gap": null,
      "grid_row": null,
      "grid_template_areas": null,
      "grid_template_columns": null,
      "grid_template_rows": null,
      "height": null,
      "justify_content": null,
      "justify_items": null,
      "left": null,
      "margin": null,
      "max_height": null,
      "max_width": null,
      "min_height": null,
      "min_width": null,
      "object_fit": null,
      "object_position": null,
      "order": null,
      "overflow": null,
      "overflow_x": null,
      "overflow_y": null,
      "padding": null,
      "right": null,
      "top": null,
      "visibility": null,
      "width": null
     }
    },
    "88486880fc0c4b70bc26fd319100270d": {
     "model_module": "@jupyter-widgets/controls",
     "model_module_version": "1.5.0",
     "model_name": "FloatProgressModel",
     "state": {
      "_dom_classes": [],
      "_model_module": "@jupyter-widgets/controls",
      "_model_module_version": "1.5.0",
      "_model_name": "FloatProgressModel",
      "_view_count": null,
      "_view_module": "@jupyter-widgets/controls",
      "_view_module_version": "1.5.0",
      "_view_name": "ProgressView",
      "bar_style": "success",
      "description": "",
      "description_tooltip": null,
      "layout": "IPY_MODEL_5e1fb7b811c142e38169613c36b8b775",
      "max": 67349,
      "min": 0,
      "orientation": "horizontal",
      "style": "IPY_MODEL_99da317dde1b405cb5147f791df6bf1f",
      "value": 67349
     }
    },
    "89dd2a1604084e7c87dbea21ee3e2d04": {
     "model_module": "@jupyter-widgets/controls",
     "model_module_version": "1.5.0",
     "model_name": "HTMLModel",
     "state": {
      "_dom_classes": [],
      "_model_module": "@jupyter-widgets/controls",
      "_model_module_version": "1.5.0",
      "_model_name": "HTMLModel",
      "_view_count": null,
      "_view_module": "@jupyter-widgets/controls",
      "_view_module_version": "1.5.0",
      "_view_name": "HTMLView",
      "description": "",
      "description_tooltip": null,
      "layout": "IPY_MODEL_ba4e8b63edd04edbbe3bb469a799bca1",
      "placeholder": "​",
      "style": "IPY_MODEL_562f38f58f714d7db6bc180a7c94d1e6",
      "value": " 872/872 [00:00&lt;00:00, 7192.35 examples/s]"
     }
    },
    "8fe3c67cacc64c66af1620d1b020945a": {
     "model_module": "@jupyter-widgets/controls",
     "model_module_version": "1.5.0",
     "model_name": "FloatProgressModel",
     "state": {
      "_dom_classes": [],
      "_model_module": "@jupyter-widgets/controls",
      "_model_module_version": "1.5.0",
      "_model_name": "FloatProgressModel",
      "_view_count": null,
      "_view_module": "@jupyter-widgets/controls",
      "_view_module_version": "1.5.0",
      "_view_name": "ProgressView",
      "bar_style": "success",
      "description": "",
      "description_tooltip": null,
      "layout": "IPY_MODEL_82c7427d898e4c87b058c229352e5601",
      "max": 872,
      "min": 0,
      "orientation": "horizontal",
      "style": "IPY_MODEL_4de66afb5ac44f82b21efd89d2ec254e",
      "value": 872
     }
    },
    "91f73276b1e840cbb1cf03a79743a694": {
     "model_module": "@jupyter-widgets/base",
     "model_module_version": "1.2.0",
     "model_name": "LayoutModel",
     "state": {
      "_model_module": "@jupyter-widgets/base",
      "_model_module_version": "1.2.0",
      "_model_name": "LayoutModel",
      "_view_count": null,
      "_view_module": "@jupyter-widgets/base",
      "_view_module_version": "1.2.0",
      "_view_name": "LayoutView",
      "align_content": null,
      "align_items": null,
      "align_self": null,
      "border": null,
      "bottom": null,
      "display": null,
      "flex": null,
      "flex_flow": null,
      "grid_area": null,
      "grid_auto_columns": null,
      "grid_auto_flow": null,
      "grid_auto_rows": null,
      "grid_column": null,
      "grid_gap": null,
      "grid_row": null,
      "grid_template_areas": null,
      "grid_template_columns": null,
      "grid_template_rows": null,
      "height": null,
      "justify_content": null,
      "justify_items": null,
      "left": null,
      "margin": null,
      "max_height": null,
      "max_width": null,
      "min_height": null,
      "min_width": null,
      "object_fit": null,
      "object_position": null,
      "order": null,
      "overflow": null,
      "overflow_x": null,
      "overflow_y": null,
      "padding": null,
      "right": null,
      "top": null,
      "visibility": null,
      "width": null
     }
    },
    "99da317dde1b405cb5147f791df6bf1f": {
     "model_module": "@jupyter-widgets/controls",
     "model_module_version": "1.5.0",
     "model_name": "ProgressStyleModel",
     "state": {
      "_model_module": "@jupyter-widgets/controls",
      "_model_module_version": "1.5.0",
      "_model_name": "ProgressStyleModel",
      "_view_count": null,
      "_view_module": "@jupyter-widgets/base",
      "_view_module_version": "1.2.0",
      "_view_name": "StyleView",
      "bar_color": null,
      "description_width": ""
     }
    },
    "a4b23ac26cce413a804567ced307f8f7": {
     "model_module": "@jupyter-widgets/base",
     "model_module_version": "1.2.0",
     "model_name": "LayoutModel",
     "state": {
      "_model_module": "@jupyter-widgets/base",
      "_model_module_version": "1.2.0",
      "_model_name": "LayoutModel",
      "_view_count": null,
      "_view_module": "@jupyter-widgets/base",
      "_view_module_version": "1.2.0",
      "_view_name": "LayoutView",
      "align_content": null,
      "align_items": null,
      "align_self": null,
      "border": null,
      "bottom": null,
      "display": null,
      "flex": null,
      "flex_flow": null,
      "grid_area": null,
      "grid_auto_columns": null,
      "grid_auto_flow": null,
      "grid_auto_rows": null,
      "grid_column": null,
      "grid_gap": null,
      "grid_row": null,
      "grid_template_areas": null,
      "grid_template_columns": null,
      "grid_template_rows": null,
      "height": null,
      "justify_content": null,
      "justify_items": null,
      "left": null,
      "margin": null,
      "max_height": null,
      "max_width": null,
      "min_height": null,
      "min_width": null,
      "object_fit": null,
      "object_position": null,
      "order": null,
      "overflow": null,
      "overflow_x": null,
      "overflow_y": null,
      "padding": null,
      "right": null,
      "top": null,
      "visibility": null,
      "width": null
     }
    },
    "a76aa2fb189f40f3ba49ca1e8d328790": {
     "model_module": "@jupyter-widgets/controls",
     "model_module_version": "1.5.0",
     "model_name": "HTMLModel",
     "state": {
      "_dom_classes": [],
      "_model_module": "@jupyter-widgets/controls",
      "_model_module_version": "1.5.0",
      "_model_name": "HTMLModel",
      "_view_count": null,
      "_view_module": "@jupyter-widgets/controls",
      "_view_module_version": "1.5.0",
      "_view_name": "HTMLView",
      "description": "",
      "description_tooltip": null,
      "layout": "IPY_MODEL_baf7b6ca05474d0dbf854d05ab99f935",
      "placeholder": "​",
      "style": "IPY_MODEL_82bd528f870649159195b78a974a0df3",
      "value": "Filter: 100%"
     }
    },
    "aa6edd0a990e4095a28381e6ae4644e8": {
     "model_module": "@jupyter-widgets/controls",
     "model_module_version": "1.5.0",
     "model_name": "HTMLModel",
     "state": {
      "_dom_classes": [],
      "_model_module": "@jupyter-widgets/controls",
      "_model_module_version": "1.5.0",
      "_model_name": "HTMLModel",
      "_view_count": null,
      "_view_module": "@jupyter-widgets/controls",
      "_view_module_version": "1.5.0",
      "_view_name": "HTMLView",
      "description": "",
      "description_tooltip": null,
      "layout": "IPY_MODEL_7d151a4c81a04fdca619d2e49a31f010",
      "placeholder": "​",
      "style": "IPY_MODEL_d8155431dd4544ff9be37d8b197a8429",
      "value": "Map: 100%"
     }
    },
    "aa6ffa76a3e14dae8d2c096b56372912": {
     "model_module": "@jupyter-widgets/controls",
     "model_module_version": "1.5.0",
     "model_name": "DescriptionStyleModel",
     "state": {
      "_model_module": "@jupyter-widgets/controls",
      "_model_module_version": "1.5.0",
      "_model_name": "DescriptionStyleModel",
      "_view_count": null,
      "_view_module": "@jupyter-widgets/base",
      "_view_module_version": "1.2.0",
      "_view_name": "StyleView",
      "description_width": ""
     }
    },
    "b2cd7d2b3263421faee36fa7db405e9e": {
     "model_module": "@jupyter-widgets/base",
     "model_module_version": "1.2.0",
     "model_name": "LayoutModel",
     "state": {
      "_model_module": "@jupyter-widgets/base",
      "_model_module_version": "1.2.0",
      "_model_name": "LayoutModel",
      "_view_count": null,
      "_view_module": "@jupyter-widgets/base",
      "_view_module_version": "1.2.0",
      "_view_name": "LayoutView",
      "align_content": null,
      "align_items": null,
      "align_self": null,
      "border": null,
      "bottom": null,
      "display": null,
      "flex": null,
      "flex_flow": null,
      "grid_area": null,
      "grid_auto_columns": null,
      "grid_auto_flow": null,
      "grid_auto_rows": null,
      "grid_column": null,
      "grid_gap": null,
      "grid_row": null,
      "grid_template_areas": null,
      "grid_template_columns": null,
      "grid_template_rows": null,
      "height": null,
      "justify_content": null,
      "justify_items": null,
      "left": null,
      "margin": null,
      "max_height": null,
      "max_width": null,
      "min_height": null,
      "min_width": null,
      "object_fit": null,
      "object_position": null,
      "order": null,
      "overflow": null,
      "overflow_x": null,
      "overflow_y": null,
      "padding": null,
      "right": null,
      "top": null,
      "visibility": null,
      "width": null
     }
    },
    "b32ca0906a974f0996cb40dee4857f17": {
     "model_module": "@jupyter-widgets/base",
     "model_module_version": "1.2.0",
     "model_name": "LayoutModel",
     "state": {
      "_model_module": "@jupyter-widgets/base",
      "_model_module_version": "1.2.0",
      "_model_name": "LayoutModel",
      "_view_count": null,
      "_view_module": "@jupyter-widgets/base",
      "_view_module_version": "1.2.0",
      "_view_name": "LayoutView",
      "align_content": null,
      "align_items": null,
      "align_self": null,
      "border": null,
      "bottom": null,
      "display": null,
      "flex": null,
      "flex_flow": null,
      "grid_area": null,
      "grid_auto_columns": null,
      "grid_auto_flow": null,
      "grid_auto_rows": null,
      "grid_column": null,
      "grid_gap": null,
      "grid_row": null,
      "grid_template_areas": null,
      "grid_template_columns": null,
      "grid_template_rows": null,
      "height": null,
      "justify_content": null,
      "justify_items": null,
      "left": null,
      "margin": null,
      "max_height": null,
      "max_width": null,
      "min_height": null,
      "min_width": null,
      "object_fit": null,
      "object_position": null,
      "order": null,
      "overflow": null,
      "overflow_x": null,
      "overflow_y": null,
      "padding": null,
      "right": null,
      "top": null,
      "visibility": null,
      "width": null
     }
    },
    "ba4e8b63edd04edbbe3bb469a799bca1": {
     "model_module": "@jupyter-widgets/base",
     "model_module_version": "1.2.0",
     "model_name": "LayoutModel",
     "state": {
      "_model_module": "@jupyter-widgets/base",
      "_model_module_version": "1.2.0",
      "_model_name": "LayoutModel",
      "_view_count": null,
      "_view_module": "@jupyter-widgets/base",
      "_view_module_version": "1.2.0",
      "_view_name": "LayoutView",
      "align_content": null,
      "align_items": null,
      "align_self": null,
      "border": null,
      "bottom": null,
      "display": null,
      "flex": null,
      "flex_flow": null,
      "grid_area": null,
      "grid_auto_columns": null,
      "grid_auto_flow": null,
      "grid_auto_rows": null,
      "grid_column": null,
      "grid_gap": null,
      "grid_row": null,
      "grid_template_areas": null,
      "grid_template_columns": null,
      "grid_template_rows": null,
      "height": null,
      "justify_content": null,
      "justify_items": null,
      "left": null,
      "margin": null,
      "max_height": null,
      "max_width": null,
      "min_height": null,
      "min_width": null,
      "object_fit": null,
      "object_position": null,
      "order": null,
      "overflow": null,
      "overflow_x": null,
      "overflow_y": null,
      "padding": null,
      "right": null,
      "top": null,
      "visibility": null,
      "width": null
     }
    },
    "baf7b6ca05474d0dbf854d05ab99f935": {
     "model_module": "@jupyter-widgets/base",
     "model_module_version": "1.2.0",
     "model_name": "LayoutModel",
     "state": {
      "_model_module": "@jupyter-widgets/base",
      "_model_module_version": "1.2.0",
      "_model_name": "LayoutModel",
      "_view_count": null,
      "_view_module": "@jupyter-widgets/base",
      "_view_module_version": "1.2.0",
      "_view_name": "LayoutView",
      "align_content": null,
      "align_items": null,
      "align_self": null,
      "border": null,
      "bottom": null,
      "display": null,
      "flex": null,
      "flex_flow": null,
      "grid_area": null,
      "grid_auto_columns": null,
      "grid_auto_flow": null,
      "grid_auto_rows": null,
      "grid_column": null,
      "grid_gap": null,
      "grid_row": null,
      "grid_template_areas": null,
      "grid_template_columns": null,
      "grid_template_rows": null,
      "height": null,
      "justify_content": null,
      "justify_items": null,
      "left": null,
      "margin": null,
      "max_height": null,
      "max_width": null,
      "min_height": null,
      "min_width": null,
      "object_fit": null,
      "object_position": null,
      "order": null,
      "overflow": null,
      "overflow_x": null,
      "overflow_y": null,
      "padding": null,
      "right": null,
      "top": null,
      "visibility": null,
      "width": null
     }
    },
    "c6af958579ff4c6ea9d770e7939e2ea9": {
     "model_module": "@jupyter-widgets/base",
     "model_module_version": "1.2.0",
     "model_name": "LayoutModel",
     "state": {
      "_model_module": "@jupyter-widgets/base",
      "_model_module_version": "1.2.0",
      "_model_name": "LayoutModel",
      "_view_count": null,
      "_view_module": "@jupyter-widgets/base",
      "_view_module_version": "1.2.0",
      "_view_name": "LayoutView",
      "align_content": null,
      "align_items": null,
      "align_self": null,
      "border": null,
      "bottom": null,
      "display": null,
      "flex": null,
      "flex_flow": null,
      "grid_area": null,
      "grid_auto_columns": null,
      "grid_auto_flow": null,
      "grid_auto_rows": null,
      "grid_column": null,
      "grid_gap": null,
      "grid_row": null,
      "grid_template_areas": null,
      "grid_template_columns": null,
      "grid_template_rows": null,
      "height": null,
      "justify_content": null,
      "justify_items": null,
      "left": null,
      "margin": null,
      "max_height": null,
      "max_width": null,
      "min_height": null,
      "min_width": null,
      "object_fit": null,
      "object_position": null,
      "order": null,
      "overflow": null,
      "overflow_x": null,
      "overflow_y": null,
      "padding": null,
      "right": null,
      "top": null,
      "visibility": null,
      "width": null
     }
    },
    "d538e4a20e5e44a6a502b3d963d770c1": {
     "model_module": "@jupyter-widgets/controls",
     "model_module_version": "1.5.0",
     "model_name": "DescriptionStyleModel",
     "state": {
      "_model_module": "@jupyter-widgets/controls",
      "_model_module_version": "1.5.0",
      "_model_name": "DescriptionStyleModel",
      "_view_count": null,
      "_view_module": "@jupyter-widgets/base",
      "_view_module_version": "1.2.0",
      "_view_name": "StyleView",
      "description_width": ""
     }
    },
    "d64f1540953c4bacb1452b23ebd52b4b": {
     "model_module": "@jupyter-widgets/controls",
     "model_module_version": "1.5.0",
     "model_name": "DescriptionStyleModel",
     "state": {
      "_model_module": "@jupyter-widgets/controls",
      "_model_module_version": "1.5.0",
      "_model_name": "DescriptionStyleModel",
      "_view_count": null,
      "_view_module": "@jupyter-widgets/base",
      "_view_module_version": "1.2.0",
      "_view_name": "StyleView",
      "description_width": ""
     }
    },
    "d8155431dd4544ff9be37d8b197a8429": {
     "model_module": "@jupyter-widgets/controls",
     "model_module_version": "1.5.0",
     "model_name": "DescriptionStyleModel",
     "state": {
      "_model_module": "@jupyter-widgets/controls",
      "_model_module_version": "1.5.0",
      "_model_name": "DescriptionStyleModel",
      "_view_count": null,
      "_view_module": "@jupyter-widgets/base",
      "_view_module_version": "1.2.0",
      "_view_name": "StyleView",
      "description_width": ""
     }
    },
    "dafcd1ad7cfb434f9b003d7de5824be5": {
     "model_module": "@jupyter-widgets/controls",
     "model_module_version": "1.5.0",
     "model_name": "ProgressStyleModel",
     "state": {
      "_model_module": "@jupyter-widgets/controls",
      "_model_module_version": "1.5.0",
      "_model_name": "ProgressStyleModel",
      "_view_count": null,
      "_view_module": "@jupyter-widgets/base",
      "_view_module_version": "1.2.0",
      "_view_name": "StyleView",
      "bar_color": null,
      "description_width": ""
     }
    },
    "e06557f1ee1c4997bd0197d060d63555": {
     "model_module": "@jupyter-widgets/controls",
     "model_module_version": "1.5.0",
     "model_name": "DescriptionStyleModel",
     "state": {
      "_model_module": "@jupyter-widgets/controls",
      "_model_module_version": "1.5.0",
      "_model_name": "DescriptionStyleModel",
      "_view_count": null,
      "_view_module": "@jupyter-widgets/base",
      "_view_module_version": "1.2.0",
      "_view_name": "StyleView",
      "description_width": ""
     }
    },
    "e50fb5034fe94d23b3eca9d2d6b08e33": {
     "model_module": "@jupyter-widgets/controls",
     "model_module_version": "1.5.0",
     "model_name": "DescriptionStyleModel",
     "state": {
      "_model_module": "@jupyter-widgets/controls",
      "_model_module_version": "1.5.0",
      "_model_name": "DescriptionStyleModel",
      "_view_count": null,
      "_view_module": "@jupyter-widgets/base",
      "_view_module_version": "1.2.0",
      "_view_name": "StyleView",
      "description_width": ""
     }
    },
    "e578286984454c45889cc72c510a5eda": {
     "model_module": "@jupyter-widgets/base",
     "model_module_version": "1.2.0",
     "model_name": "LayoutModel",
     "state": {
      "_model_module": "@jupyter-widgets/base",
      "_model_module_version": "1.2.0",
      "_model_name": "LayoutModel",
      "_view_count": null,
      "_view_module": "@jupyter-widgets/base",
      "_view_module_version": "1.2.0",
      "_view_name": "LayoutView",
      "align_content": null,
      "align_items": null,
      "align_self": null,
      "border": null,
      "bottom": null,
      "display": null,
      "flex": null,
      "flex_flow": null,
      "grid_area": null,
      "grid_auto_columns": null,
      "grid_auto_flow": null,
      "grid_auto_rows": null,
      "grid_column": null,
      "grid_gap": null,
      "grid_row": null,
      "grid_template_areas": null,
      "grid_template_columns": null,
      "grid_template_rows": null,
      "height": null,
      "justify_content": null,
      "justify_items": null,
      "left": null,
      "margin": null,
      "max_height": null,
      "max_width": null,
      "min_height": null,
      "min_width": null,
      "object_fit": null,
      "object_position": null,
      "order": null,
      "overflow": null,
      "overflow_x": null,
      "overflow_y": null,
      "padding": null,
      "right": null,
      "top": null,
      "visibility": null,
      "width": null
     }
    },
    "f2e8803d774549f18e0699017d01742e": {
     "model_module": "@jupyter-widgets/base",
     "model_module_version": "1.2.0",
     "model_name": "LayoutModel",
     "state": {
      "_model_module": "@jupyter-widgets/base",
      "_model_module_version": "1.2.0",
      "_model_name": "LayoutModel",
      "_view_count": null,
      "_view_module": "@jupyter-widgets/base",
      "_view_module_version": "1.2.0",
      "_view_name": "LayoutView",
      "align_content": null,
      "align_items": null,
      "align_self": null,
      "border": null,
      "bottom": null,
      "display": null,
      "flex": null,
      "flex_flow": null,
      "grid_area": null,
      "grid_auto_columns": null,
      "grid_auto_flow": null,
      "grid_auto_rows": null,
      "grid_column": null,
      "grid_gap": null,
      "grid_row": null,
      "grid_template_areas": null,
      "grid_template_columns": null,
      "grid_template_rows": null,
      "height": null,
      "justify_content": null,
      "justify_items": null,
      "left": null,
      "margin": null,
      "max_height": null,
      "max_width": null,
      "min_height": null,
      "min_width": null,
      "object_fit": null,
      "object_position": null,
      "order": null,
      "overflow": null,
      "overflow_x": null,
      "overflow_y": null,
      "padding": null,
      "right": null,
      "top": null,
      "visibility": null,
      "width": null
     }
    }
   }
  }
 },
 "nbformat": 4,
 "nbformat_minor": 4
}
